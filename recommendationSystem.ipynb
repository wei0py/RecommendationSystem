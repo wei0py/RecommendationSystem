{
 "cells": [
  {
   "cell_type": "code",
   "execution_count": 1,
   "id": "b0077090",
   "metadata": {},
   "outputs": [],
   "source": [
    "import numpy as np\n",
    "import pandas as pd\n",
    "import json\n",
    "import gzip\n",
    "import seaborn as sns\n",
    "import matplotlib.pyplot as plt\n",
    "%matplotlib inline\n",
    "from tqdm import tqdm\n",
    "import re\n",
    "import warnings\n",
    "warnings.filterwarnings(\"ignore\")"
   ]
  },
  {
   "cell_type": "markdown",
   "id": "3b6b22a0",
   "metadata": {},
   "source": [
    "<!-- BEGIN QUESTION -->\n",
    "\n",
    "<br><br>\n",
    "\n",
    "---\n",
    "\n",
    "## Data Sampling and Collection\n",
    "\n",
    "In the following cells, We showed the code about how we deal with the original dataset. Since the orginal dataset is pretty large, we did not attach this part of data. If you want to generate from the original data, you can download the data from the link we provided, and then run this part of code. The original data is downloaded from https://nijianmo.github.io/amazon/index.html. We use the part of **Complete review data** and the specific category **Electronics**."
   ]
  },
  {
   "cell_type": "code",
   "execution_count": null,
   "id": "bb93220c",
   "metadata": {},
   "outputs": [],
   "source": [
    "# This part we load the original dataset.\n",
    "\n",
    "data_meta = []\n",
    "with gzip.open('meta_Electronics.json.gz') as f:\n",
    "    for l in f:\n",
    "        data_meta.append(json.loads(l.strip()))\n",
    "        \n",
    "# df_meta is the dataframe with all products information\n",
    "df_meta = pd.DataFrame.from_dict(data_meta)\n",
    "\n",
    "data_review = []\n",
    "with gzip.open('Electronics.json.gz') as f:\n",
    "    for l in f:\n",
    "        data_review.append(json.loads(l.strip()))\n",
    "        \n",
    "# df_review is the dataframe with all reviews information\n",
    "df_review = pd.DataFrame.from_dict(data_review)\n"
   ]
  },
  {
   "cell_type": "markdown",
   "id": "2318a290",
   "metadata": {},
   "source": [
    "The following is how we generate the data we want to use. First, we dropped some duplicated rows and all rows that do not have a valid rating. Second, to make the dataset more useful, we want each user has rated a number of products and each product has several ratings. Finally, we filter the data again to make sure the review data and products data have common products. \n",
    "\n",
    "There might be a potential bias in the sampling process since we only keep the data whose products and users that has a number of records."
   ]
  },
  {
   "cell_type": "code",
   "execution_count": null,
   "id": "f00c759d",
   "metadata": {},
   "outputs": [],
   "source": [
    "# This part is data preprocessing.\n",
    "\n",
    "# First step, we dropped some duplicated rows and all rows that do not have a valid rating. \n",
    "df_meta = df_meta.drop_duplicates('asin')\n",
    "df_review = df_review.dropna(subset = ['overall'])\n",
    "df_review = df_review.drop_duplicates(['asin', 'reviewerID'])\n",
    "df_review = df_review[(df_review['overall']<=5) & (df_review['overall']>0)]\n",
    "df_part = df_review[['overall', 'reviewerID', 'asin']]\n",
    "\n",
    "# Second step, to make the dataset more useful, we want each user has rated a number of products \n",
    "# and each product has several ratings. \n",
    "df_part = df_part.groupby('reviewerID').filter(lambda x: len(x) > 20)\n",
    "df_part = df_part.groupby('asin').filter(lambda x: len(x) > 20)\n",
    "df_part = df_part.groupby('reviewerID').filter(lambda x: len(x) > 10)\n",
    "\n",
    "# Third step, make sure the review data and products data have common products.\n",
    "df_review_save = df_review.loc[df_part.index]\n",
    "df_meta_save = df_meta[df_meta['asin'].isin(df_review_save.asin.unique())]\n",
    "df_review_save = df_review_save[df_review_save['asin'].isin(df_meta_save.asin.unique())]\n",
    "\n",
    "# Save the dataset we will use\n",
    "df_review_save.to_csv('filter.csv')\n",
    "df_meta_save.to_csv('meta.csv')\n"
   ]
  },
  {
   "cell_type": "markdown",
   "id": "a6b64750",
   "metadata": {},
   "source": [
    "\n",
    "<!-- BEGIN QUESTION -->\n",
    "\n",
    "<br><br>\n",
    "\n",
    "---\n",
    "\n",
    "## Loading Dataset\n",
    "\n",
    "In this following cell, We load the dataset we will use. Note: this dataset is already been selected and cleaned to make it smaller and usable. \n",
    "\n",
    "$meta$ contains the information of products and $rating$ contains the information of reviews(User and product together can work as the primary key.)"
   ]
  },
  {
   "cell_type": "code",
   "execution_count": 2,
   "id": "6290f3e3",
   "metadata": {},
   "outputs": [],
   "source": [
    "meta   = pd.read_csv(\"meta.csv\")\n",
    "rating = pd.read_csv(\"filter.csv\")"
   ]
  },
  {
   "cell_type": "code",
   "execution_count": 3,
   "id": "a61ef765",
   "metadata": {},
   "outputs": [
    {
     "data": {
      "text/html": [
       "<div>\n",
       "<style scoped>\n",
       "    .dataframe tbody tr th:only-of-type {\n",
       "        vertical-align: middle;\n",
       "    }\n",
       "\n",
       "    .dataframe tbody tr th {\n",
       "        vertical-align: top;\n",
       "    }\n",
       "\n",
       "    .dataframe thead th {\n",
       "        text-align: right;\n",
       "    }\n",
       "</style>\n",
       "<table border=\"1\" class=\"dataframe\">\n",
       "  <thead>\n",
       "    <tr style=\"text-align: right;\">\n",
       "      <th></th>\n",
       "      <th>Unnamed: 0</th>\n",
       "      <th>category</th>\n",
       "      <th>tech1</th>\n",
       "      <th>description</th>\n",
       "      <th>fit</th>\n",
       "      <th>title</th>\n",
       "      <th>also_buy</th>\n",
       "      <th>tech2</th>\n",
       "      <th>brand</th>\n",
       "      <th>feature</th>\n",
       "      <th>rank</th>\n",
       "      <th>also_view</th>\n",
       "      <th>main_cat</th>\n",
       "      <th>similar_item</th>\n",
       "      <th>date</th>\n",
       "      <th>price</th>\n",
       "      <th>asin</th>\n",
       "      <th>imageURL</th>\n",
       "      <th>imageURLHighRes</th>\n",
       "      <th>details</th>\n",
       "    </tr>\n",
       "  </thead>\n",
       "  <tbody>\n",
       "    <tr>\n",
       "      <th>0</th>\n",
       "      <td>201</td>\n",
       "      <td>['Electronics', 'Accessories &amp;amp; Supplies', ...</td>\n",
       "      <td>NaN</td>\n",
       "      <td>['The videosecu TV mount is a mounting solutio...</td>\n",
       "      <td>NaN</td>\n",
       "      <td>VideoSecu 24\" Long Arm TV Wall Mount Low Profi...</td>\n",
       "      <td>['B000WYVBR0', 'B003O1UYHG', 'B002YV4WJS', 'B0...</td>\n",
       "      <td>NaN</td>\n",
       "      <td>VideoSecu</td>\n",
       "      <td>['Fits most 22\" to 47\" HDTV and some up to 55\"...</td>\n",
       "      <td>['&gt;#176 in Electronics &amp;gt; Accessories &amp;amp; ...</td>\n",
       "      <td>[]</td>\n",
       "      <td>All Electronics</td>\n",
       "      <td>class=\"a-bordered a-horizontal-stripes  a-spa...</td>\n",
       "      <td>February 25, 2007</td>\n",
       "      <td>$34.99</td>\n",
       "      <td>0972683275</td>\n",
       "      <td>['https://images-na.ssl-images-amazon.com/imag...</td>\n",
       "      <td>['https://images-na.ssl-images-amazon.com/imag...</td>\n",
       "      <td>NaN</td>\n",
       "    </tr>\n",
       "    <tr>\n",
       "      <th>1</th>\n",
       "      <td>418</td>\n",
       "      <td>['Electronics', 'Computers &amp;amp; Accessories',...</td>\n",
       "      <td>class=\"a-keyvalue prodDetTable\" role=\"present...</td>\n",
       "      <td>['Sandisk SDSDQUA-064G-A11 Professional Ultra ...</td>\n",
       "      <td>NaN</td>\n",
       "      <td>Sandisk SDSDQUA-064G-A11 Professional Ultra 64...</td>\n",
       "      <td>[]</td>\n",
       "      <td>class=\"a-keyvalue prodDetTable\" role=\"present...</td>\n",
       "      <td>SanDisk</td>\n",
       "      <td>['Add up to 128GB to your Android tablet or sm...</td>\n",
       "      <td>['&gt;#3,722 in Cell Phones &amp;amp; Accessories (Se...</td>\n",
       "      <td>['B073JYVKNX', '9973399986', '9966569863', 'B0...</td>\n",
       "      <td>Computers</td>\n",
       "      <td>class=\"a-bordered a-horizontal-stripes  a-spa...</td>\n",
       "      <td>October 13, 2011</td>\n",
       "      <td>$12.99</td>\n",
       "      <td>106171327X</td>\n",
       "      <td>['https://images-na.ssl-images-amazon.com/imag...</td>\n",
       "      <td>['https://images-na.ssl-images-amazon.com/imag...</td>\n",
       "      <td>NaN</td>\n",
       "    </tr>\n",
       "    <tr>\n",
       "      <th>2</th>\n",
       "      <td>463</td>\n",
       "      <td>['Electronics', 'eBook Readers &amp;amp; Accessori...</td>\n",
       "      <td>NaN</td>\n",
       "      <td>[\"The NOOK Simple Touch eReader allows you to ...</td>\n",
       "      <td>NaN</td>\n",
       "      <td>Barnes &amp;amp; Noble Nook Simple Touch eBook Rea...</td>\n",
       "      <td>['B016F1SVVM', '1616855711', 'B00KBPQHMO', '16...</td>\n",
       "      <td>NaN</td>\n",
       "      <td>Barnes &amp;amp; Noble</td>\n",
       "      <td>['Box Content - eReader, microUSB Cable, Start...</td>\n",
       "      <td>['&gt;#58,105 in Electronics (See Top 100 in Elec...</td>\n",
       "      <td>['B077Y84B2C', '1400501717', 'B00L89V1AA', 'B0...</td>\n",
       "      <td>Home Audio &amp;amp; Theater</td>\n",
       "      <td>class=\"a-bordered a-horizontal-stripes  a-spa...</td>\n",
       "      <td>June 3, 2011</td>\n",
       "      <td>NaN</td>\n",
       "      <td>140053271X</td>\n",
       "      <td>['https://images-na.ssl-images-amazon.com/imag...</td>\n",
       "      <td>['https://images-na.ssl-images-amazon.com/imag...</td>\n",
       "      <td>NaN</td>\n",
       "    </tr>\n",
       "  </tbody>\n",
       "</table>\n",
       "</div>"
      ],
      "text/plain": [
       "   Unnamed: 0                                           category  \\\n",
       "0         201  ['Electronics', 'Accessories &amp; Supplies', ...   \n",
       "1         418  ['Electronics', 'Computers &amp; Accessories',...   \n",
       "2         463  ['Electronics', 'eBook Readers &amp; Accessori...   \n",
       "\n",
       "                                               tech1  \\\n",
       "0                                                NaN   \n",
       "1   class=\"a-keyvalue prodDetTable\" role=\"present...   \n",
       "2                                                NaN   \n",
       "\n",
       "                                         description  fit  \\\n",
       "0  ['The videosecu TV mount is a mounting solutio...  NaN   \n",
       "1  ['Sandisk SDSDQUA-064G-A11 Professional Ultra ...  NaN   \n",
       "2  [\"The NOOK Simple Touch eReader allows you to ...  NaN   \n",
       "\n",
       "                                               title  \\\n",
       "0  VideoSecu 24\" Long Arm TV Wall Mount Low Profi...   \n",
       "1  Sandisk SDSDQUA-064G-A11 Professional Ultra 64...   \n",
       "2  Barnes &amp; Noble Nook Simple Touch eBook Rea...   \n",
       "\n",
       "                                            also_buy  \\\n",
       "0  ['B000WYVBR0', 'B003O1UYHG', 'B002YV4WJS', 'B0...   \n",
       "1                                                 []   \n",
       "2  ['B016F1SVVM', '1616855711', 'B00KBPQHMO', '16...   \n",
       "\n",
       "                                               tech2               brand  \\\n",
       "0                                                NaN           VideoSecu   \n",
       "1   class=\"a-keyvalue prodDetTable\" role=\"present...             SanDisk   \n",
       "2                                                NaN  Barnes &amp; Noble   \n",
       "\n",
       "                                             feature  \\\n",
       "0  ['Fits most 22\" to 47\" HDTV and some up to 55\"...   \n",
       "1  ['Add up to 128GB to your Android tablet or sm...   \n",
       "2  ['Box Content - eReader, microUSB Cable, Start...   \n",
       "\n",
       "                                                rank  \\\n",
       "0  ['>#176 in Electronics &gt; Accessories &amp; ...   \n",
       "1  ['>#3,722 in Cell Phones &amp; Accessories (Se...   \n",
       "2  ['>#58,105 in Electronics (See Top 100 in Elec...   \n",
       "\n",
       "                                           also_view  \\\n",
       "0                                                 []   \n",
       "1  ['B073JYVKNX', '9973399986', '9966569863', 'B0...   \n",
       "2  ['B077Y84B2C', '1400501717', 'B00L89V1AA', 'B0...   \n",
       "\n",
       "                   main_cat  \\\n",
       "0           All Electronics   \n",
       "1                 Computers   \n",
       "2  Home Audio &amp; Theater   \n",
       "\n",
       "                                        similar_item               date  \\\n",
       "0   class=\"a-bordered a-horizontal-stripes  a-spa...  February 25, 2007   \n",
       "1   class=\"a-bordered a-horizontal-stripes  a-spa...   October 13, 2011   \n",
       "2   class=\"a-bordered a-horizontal-stripes  a-spa...       June 3, 2011   \n",
       "\n",
       "    price        asin                                           imageURL  \\\n",
       "0  $34.99  0972683275  ['https://images-na.ssl-images-amazon.com/imag...   \n",
       "1  $12.99  106171327X  ['https://images-na.ssl-images-amazon.com/imag...   \n",
       "2     NaN  140053271X  ['https://images-na.ssl-images-amazon.com/imag...   \n",
       "\n",
       "                                     imageURLHighRes details  \n",
       "0  ['https://images-na.ssl-images-amazon.com/imag...     NaN  \n",
       "1  ['https://images-na.ssl-images-amazon.com/imag...     NaN  \n",
       "2  ['https://images-na.ssl-images-amazon.com/imag...     NaN  "
      ]
     },
     "execution_count": 3,
     "metadata": {},
     "output_type": "execute_result"
    }
   ],
   "source": [
    "meta.head(3)"
   ]
  },
  {
   "cell_type": "code",
   "execution_count": 4,
   "id": "4970c6e8",
   "metadata": {},
   "outputs": [
    {
     "data": {
      "text/html": [
       "<div>\n",
       "<style scoped>\n",
       "    .dataframe tbody tr th:only-of-type {\n",
       "        vertical-align: middle;\n",
       "    }\n",
       "\n",
       "    .dataframe tbody tr th {\n",
       "        vertical-align: top;\n",
       "    }\n",
       "\n",
       "    .dataframe thead th {\n",
       "        text-align: right;\n",
       "    }\n",
       "</style>\n",
       "<table border=\"1\" class=\"dataframe\">\n",
       "  <thead>\n",
       "    <tr style=\"text-align: right;\">\n",
       "      <th></th>\n",
       "      <th>Unnamed: 0</th>\n",
       "      <th>overall</th>\n",
       "      <th>verified</th>\n",
       "      <th>reviewTime</th>\n",
       "      <th>reviewerID</th>\n",
       "      <th>asin</th>\n",
       "      <th>style</th>\n",
       "      <th>reviewerName</th>\n",
       "      <th>reviewText</th>\n",
       "      <th>summary</th>\n",
       "      <th>unixReviewTime</th>\n",
       "      <th>vote</th>\n",
       "      <th>image</th>\n",
       "    </tr>\n",
       "  </thead>\n",
       "  <tbody>\n",
       "    <tr>\n",
       "      <th>0</th>\n",
       "      <td>2219</td>\n",
       "      <td>5.0</td>\n",
       "      <td>True</td>\n",
       "      <td>11 18, 2017</td>\n",
       "      <td>A39KGSKV4C7LDV</td>\n",
       "      <td>0972683275</td>\n",
       "      <td>NaN</td>\n",
       "      <td>Ken Mile-Hi</td>\n",
       "      <td>I needed a television hanger with good extensi...</td>\n",
       "      <td>Glad I bought this.</td>\n",
       "      <td>1510963200</td>\n",
       "      <td>NaN</td>\n",
       "      <td>NaN</td>\n",
       "    </tr>\n",
       "    <tr>\n",
       "      <th>1</th>\n",
       "      <td>2220</td>\n",
       "      <td>5.0</td>\n",
       "      <td>True</td>\n",
       "      <td>10 31, 2017</td>\n",
       "      <td>A2Y3EXMNVOV2IO</td>\n",
       "      <td>0972683275</td>\n",
       "      <td>NaN</td>\n",
       "      <td>Chocobo Sandwich</td>\n",
       "      <td>Good quality for the price. Actually does go 2...</td>\n",
       "      <td>Good quality for the price</td>\n",
       "      <td>1509408000</td>\n",
       "      <td>NaN</td>\n",
       "      <td>['https://images-na.ssl-images-amazon.com/imag...</td>\n",
       "    </tr>\n",
       "    <tr>\n",
       "      <th>2</th>\n",
       "      <td>2232</td>\n",
       "      <td>5.0</td>\n",
       "      <td>True</td>\n",
       "      <td>05 23, 2017</td>\n",
       "      <td>A3EEKCGMZ2UQUE</td>\n",
       "      <td>0972683275</td>\n",
       "      <td>NaN</td>\n",
       "      <td>Tukansam</td>\n",
       "      <td>This was easier that I thought to installed......</td>\n",
       "      <td>Mount This!</td>\n",
       "      <td>1495497600</td>\n",
       "      <td>NaN</td>\n",
       "      <td>NaN</td>\n",
       "    </tr>\n",
       "  </tbody>\n",
       "</table>\n",
       "</div>"
      ],
      "text/plain": [
       "   Unnamed: 0  overall  verified   reviewTime      reviewerID        asin  \\\n",
       "0        2219      5.0      True  11 18, 2017  A39KGSKV4C7LDV  0972683275   \n",
       "1        2220      5.0      True  10 31, 2017  A2Y3EXMNVOV2IO  0972683275   \n",
       "2        2232      5.0      True  05 23, 2017  A3EEKCGMZ2UQUE  0972683275   \n",
       "\n",
       "  style      reviewerName                                         reviewText  \\\n",
       "0   NaN       Ken Mile-Hi  I needed a television hanger with good extensi...   \n",
       "1   NaN  Chocobo Sandwich  Good quality for the price. Actually does go 2...   \n",
       "2   NaN          Tukansam  This was easier that I thought to installed......   \n",
       "\n",
       "                      summary  unixReviewTime vote  \\\n",
       "0         Glad I bought this.      1510963200  NaN   \n",
       "1  Good quality for the price      1509408000  NaN   \n",
       "2                 Mount This!      1495497600  NaN   \n",
       "\n",
       "                                               image  \n",
       "0                                                NaN  \n",
       "1  ['https://images-na.ssl-images-amazon.com/imag...  \n",
       "2                                                NaN  "
      ]
     },
     "execution_count": 4,
     "metadata": {},
     "output_type": "execute_result"
    }
   ],
   "source": [
    "rating.head(3)"
   ]
  },
  {
   "cell_type": "code",
   "execution_count": 5,
   "id": "35a2202f",
   "metadata": {},
   "outputs": [
    {
     "data": {
      "text/plain": [
       "asin\n",
       "B0007GBB0K      11\n",
       "B01D4H1BOE      12\n",
       "B000JO3N3S      13\n",
       "B0013MV7FQ      13\n",
       "B00ASC3PJ8      13\n",
       "              ... \n",
       "B000FNFSPY    1148\n",
       "B0019EHU8G    1153\n",
       "B0019HL8Q8    1192\n",
       "B00M55C0NS    1276\n",
       "B003L1ZYYW    1735\n",
       "Length: 12980, dtype: int64"
      ]
     },
     "execution_count": 5,
     "metadata": {},
     "output_type": "execute_result"
    }
   ],
   "source": [
    "rating.groupby('asin').size().sort_values()"
   ]
  },
  {
   "cell_type": "code",
   "execution_count": 6,
   "id": "afbdf2d3",
   "metadata": {},
   "outputs": [
    {
     "data": {
      "text/plain": [
       "reviewerID\n",
       "A3CXANJM0YYI84     10\n",
       "A1D0JL1XVA0BY2     10\n",
       "A39NGYK97FBZM3     10\n",
       "A53AFLXSJWMHI      10\n",
       "AB7DR7FWLMGZ9      10\n",
       "                 ... \n",
       "ANGGNFE8DXGYC     201\n",
       "ADLVFFE4VBT8      204\n",
       "A31N0XY2UTB25C    208\n",
       "A1EXGL6L0QQ0M5    232\n",
       "A680RUE1FDO8B     304\n",
       "Length: 36371, dtype: int64"
      ]
     },
     "execution_count": 6,
     "metadata": {},
     "output_type": "execute_result"
    }
   ],
   "source": [
    "rating.groupby('reviewerID').size().sort_values()"
   ]
  },
  {
   "cell_type": "markdown",
   "id": "774caa56",
   "metadata": {},
   "source": [
    "\n",
    "<!-- BEGIN QUESTION -->\n",
    "\n",
    "<br><br>\n",
    "\n",
    "---\n",
    "\n",
    "## Data Preprocessing and Exploratory Data Analysis (EDA)\n",
    "\n",
    "In the following cells, We clean the data further and do some EDA."
   ]
  },
  {
   "cell_type": "markdown",
   "id": "8b1dce14",
   "metadata": {},
   "source": [
    "### EDA on distribution of products\n",
    "\n",
    "In the following part, we focus on the $meta$ dataframe and explore some top brands of the products. At the same time, we take a look at their price distributions."
   ]
  },
  {
   "cell_type": "code",
   "execution_count": 7,
   "id": "a670a719",
   "metadata": {},
   "outputs": [],
   "source": [
    "# reformat the price, create a column for price float value \n",
    "def my_price(s):\n",
    "    return re.match(r'^\\$([0-9]*,)*[0-9]+\\.[0-9]+$', s) != None\n",
    "\n",
    "def my_clean_price(df_in):\n",
    "    df = df_in.copy()\n",
    "    return df[df['price'].apply(my_price)]\n",
    "\n",
    "def f(s):\n",
    "    tmp = s.replace(',', '')\n",
    "    return float(tmp[1:])\n",
    "\n",
    "df = meta.dropna(subset = [\"price\"])\n",
    "df = my_clean_price(df)\n",
    "df['price float'] = df['price'].apply(f)"
   ]
  },
  {
   "cell_type": "code",
   "execution_count": 8,
   "id": "d10a22bf",
   "metadata": {},
   "outputs": [],
   "source": [
    "# Find top brands in the products\n",
    "top_brands = df[\"brand\"].value_counts()\n",
    "top_brands = top_brands[:10]\n",
    "top_df = df[df[\"brand\"].isin(top_brands.index)]\n",
    "top_df = top_df[top_df[\"price float\"]<100 ]"
   ]
  },
  {
   "cell_type": "code",
   "execution_count": 9,
   "id": "d5d770a9",
   "metadata": {},
   "outputs": [],
   "source": [
    "# Plot the top brands and their price distribution\n",
    "def plot_brands(df):\n",
    "    \n",
    "    fig, axs = plt.subplots(nrows=2, figsize=(12,8),  dpi= 100)\n",
    "    sns.boxplot(\n",
    "        x='brand',\n",
    "        y='price float',\n",
    "        data=df,\n",
    "         ax=axs[0], order = df[\"brand\"].value_counts().index\n",
    "    )\n",
    "\n",
    "    sns.countplot(\n",
    "        x='brand',\n",
    "        data=df,\n",
    "        ax=axs[1], order = df[\"brand\"].value_counts().index\n",
    "    )\n",
    "\n",
    "    axs[0].axhline(\n",
    "        y=df['price float'].median(), \n",
    "        color='red',\n",
    "        linestyle='dotted'\n",
    "    )\n",
    "\n",
    "    plt.xlabel(\"Brand\")\n",
    "    plt.subplots_adjust(hspace=0.01)\n",
    "#     plt.show()\n",
    "    plt.savefig(\"brand.png\")\n",
    "\n",
    "# Plot the top brands and their main categories.\n",
    "def plot_main_cat(df, name):\n",
    "    \n",
    "    fig = plt.figure(figsize=(12,8), dpi= 100)\n",
    "\n",
    "    df_b = df[df[\"brand\"].isin(name)]\n",
    "    df_b = df_b[df_b[\"main_cat\"].isin(df_b[\"main_cat\"].value_counts().index[:4])]\n",
    "\n",
    "    sns.countplot(\n",
    "        x='main_cat',\n",
    "        data=df_b, hue = \"brand\",\n",
    "        order = df_b[\"main_cat\"].value_counts().index\n",
    "    )\n",
    "\n",
    "    plt.xlabel(\"Main category\")\n",
    "    plt.ylabel(\"Count\")\n",
    "    plt.title(\"Count for top 4 main categories of top 4 brands. \")\n",
    "    plt.subplots_adjust(hspace=0.01)\n",
    "    plt.savefig(\"count_main_cat.png\")\n",
    "#     plt.show()"
   ]
  },
  {
   "cell_type": "code",
   "execution_count": 10,
   "id": "e82d9101",
   "metadata": {},
   "outputs": [
    {
     "data": {
      "image/png": "[encoded data removed]",
      "text/plain": [
       "<Figure size 1200x800 with 2 Axes>"
      ]
     },
     "metadata": {
      "needs_background": "light"
     },
     "output_type": "display_data"
    }
   ],
   "source": [
    "plot_brands(top_df)"
   ]
  },
  {
   "cell_type": "code",
   "execution_count": 11,
   "id": "2b3414e3",
   "metadata": {},
   "outputs": [
    {
     "data": {
      "image/png": "[encoded data removed]",
      "text/plain": [
       "<Figure size 1200x800 with 1 Axes>"
      ]
     },
     "metadata": {
      "needs_background": "light"
     },
     "output_type": "display_data"
    }
   ],
   "source": [
    "plot_main_cat(meta, top_brands.index[:4])"
   ]
  },
  {
   "cell_type": "markdown",
   "id": "02657384",
   "metadata": {},
   "source": [
    "### EDA on distribution of rating\n",
    "In the following part, we focus on the $rating$ dataframe and plot some distribution of the ratings."
   ]
  },
  {
   "cell_type": "code",
   "execution_count": 12,
   "id": "1b3c4d4d",
   "metadata": {},
   "outputs": [],
   "source": [
    "df_rating=pd.DataFrame(\n",
    "    {'Number of Rating':rating.groupby('asin').count()['overall'], \n",
    "     'Mean Rating':rating.groupby('asin').mean()['overall']})"
   ]
  },
  {
   "cell_type": "code",
   "execution_count": 13,
   "id": "fb5b4f8d",
   "metadata": {},
   "outputs": [
    {
     "data": {
      "image/png": "[encoded data removed]",
      "text/plain": [
       "<Figure size 1296x432 with 2 Axes>"
      ]
     },
     "metadata": {
      "needs_background": "light"
     },
     "output_type": "display_data"
    }
   ],
   "source": [
    "plt.figure(figsize=(18,6))\n",
    "\n",
    "plt.subplot(1,2,1)\n",
    "plt.hist(x='Number of Rating',data=df_rating,bins=30,color='teal')\n",
    "plt.title('Distribution of Number of Rating', fontsize=15)\n",
    "plt.xlabel('Number of Rating', fontsize=12)\n",
    "plt.ylabel('Frequency', fontsize=12)\n",
    "\n",
    "plt.subplot(1,2,2)\n",
    "plt.hist(x='Mean Rating',data=df_rating,bins=30, color='slateblue')\n",
    "plt.title('Distribution of Mean Rating', fontsize=15)\n",
    "plt.xlabel('Mean Rating', fontsize=12)\n",
    "plt.yticks([])\n",
    "# plt.show()\n",
    "plt.savefig(\"rating_distr.png\")"
   ]
  },
  {
   "cell_type": "code",
   "execution_count": 14,
   "id": "32ed3966",
   "metadata": {},
   "outputs": [
    {
     "data": {
      "image/png": "[encoded data removed]",
      "text/plain": [
       "<Figure size 1080x360 with 2 Axes>"
      ]
     },
     "metadata": {
      "needs_background": "light"
     },
     "output_type": "display_data"
    }
   ],
   "source": [
    "rating_by_user = rating.groupby(by='reviewerID')['overall'].count().sort_values(ascending=False)\n",
    "rating_by_product = rating.groupby(\"asin\").agg({\"reviewerID\":\"count\",\"overall\":\"mean\"}).rename(\n",
    "                        columns={\"reviewerID\":\"Number of Ratings\", \"overall\":\"Average Rating\"}).reset_index()\n",
    "rating_hist,  bins  = np.histogram(rating_by_user, bins=[10,50,100,200, 400])\n",
    "rating_hist2,  bins2  = np.histogram(rating_by_product[\"Number of Ratings\"], bins=[10,50,100,200,500,1000,])\n",
    "\n",
    "figsize = (15,5)\n",
    "fig, (ax1, ax2) = plt.subplots(1,2,figsize=figsize)\n",
    "\n",
    "pd.DataFrame({\"Numbers of User\":rating_hist,\"Total Rates\":bins[:-1]}).plot.bar(x=\"Total Rates\", ax=ax1)\n",
    "ax1.set(yscale=\"log\")\n",
    "ax1.set(ylabel=\"Total number of users rated product\", xlabel=\"Number of products rated by a user\")\n",
    "ax1.set(title=\"Distribution of Rating (Log Scale)\")\n",
    "\n",
    "pd.DataFrame({\"Numbers of Products\":rating_hist2,\"Total Rates\":bins2[:-1]}).plot.bar(x=\"Total Rates\", ax=ax2)\n",
    "ax2.set(yscale=\"log\")\n",
    "ax2.set(ylabel=\"Total number of products\", xlabel=\"Number of rating per product\")\n",
    "ax2.set(title=\"Distribution of Rating (Log Scale)\")\n",
    "ax2.get_legend().remove()\n",
    "[item.set_fontsize(\"xx-large\") for item in ax2.get_yticklabels()]\n",
    "# plt.show()\n",
    "plt.savefig(\"rate_by_up.png\")\n"
   ]
  },
  {
   "cell_type": "markdown",
   "id": "0ca6c95d",
   "metadata": {},
   "source": [
    "<!-- BEGIN QUESTION -->\n",
    "\n",
    "<br><br>\n",
    "\n",
    "---\n",
    "\n",
    "## Recommender construction\n",
    "\n",
    "The following part is our model construction. We can work on the recommender system. Previous work include some recommendation systems like: Popularity Based Recommendation and Collaberative filtering. In our work, we decide to use the **Collaberative filtering** which can use more information."
   ]
  },
  {
   "cell_type": "markdown",
   "id": "379e2028",
   "metadata": {},
   "source": [
    "### Collaborative Filtering\n",
    "\n",
    "Collaborative filtering is commonly used for recommender systems. These techniques aim to fill in the missing entries of a user-item association matrix. \n",
    "\n",
    "In collaborative filtering, we model the rating as an inner product of the product and user feature vectors given by\n",
    "\\begin{equation}\n",
    "    \\hat{R}_{ij} = x_i^{\\rm T}\\theta_j\n",
    "\\end{equation}\n",
    "\n",
    "Building up the recommender system boils down to an optimization problem where our objective function is\n",
    "\\begin{equation}\n",
    "    l = \\sum_{(i, j)\\in D} (R_{ij} - x_i^{\\rm T}\\theta_j)^2\n",
    "\\end{equation}\n",
    "and our task is to minimize our objective function $l$.\n",
    "\n"
   ]
  },
  {
   "cell_type": "code",
   "execution_count": null,
   "id": "8d748762",
   "metadata": {},
   "outputs": [],
   "source": [
    "# Install the surprise package if you haven't\n",
    "# !pip install scikit-surprise"
   ]
  },
  {
   "cell_type": "code",
   "execution_count": 15,
   "id": "97286802",
   "metadata": {},
   "outputs": [],
   "source": [
    "from surprise import Reader, Dataset \n",
    "from surprise.model_selection import cross_validate\n",
    "from surprise import NormalPredictor\n",
    "from surprise import KNNBasic\n",
    "from surprise import KNNWithMeans\n",
    "from surprise import KNNWithZScore\n",
    "from surprise import KNNBaseline\n",
    "from surprise import SVD\n",
    "from surprise import BaselineOnly\n",
    "from surprise import SVDpp\n",
    "from surprise import NMF\n",
    "from surprise import SlopeOne\n",
    "from surprise import CoClustering\n",
    "from surprise.accuracy import rmse\n",
    "from surprise import accuracy\n",
    "from surprise.model_selection import train_test_split\n",
    "from surprise.model_selection import GridSearchCV"
   ]
  },
  {
   "cell_type": "markdown",
   "id": "eaeb5d9f",
   "metadata": {},
   "source": [
    "#### Exploration of Different Algorithms for Recommender Systems\n",
    "Surprise has a few different algorithms built in. In the following cells, we tested different algorithms for the recommender system. \n",
    "\n",
    "The algorithms include: SVD(), SVDpp(), KNNBaseline(), KNNWithMeans(), BaselineOnly(), CoClustering()."
   ]
  },
  {
   "cell_type": "code",
   "execution_count": 16,
   "id": "72a87be0",
   "metadata": {},
   "outputs": [],
   "source": [
    "reader = Reader()\n",
    "data = Dataset.load_from_df(rating[['reviewerID', 'asin', 'overall']], reader)"
   ]
  },
  {
   "cell_type": "code",
   "execution_count": 18,
   "id": "3ef80e52",
   "metadata": {},
   "outputs": [
    {
     "name": "stdout",
     "output_type": "stream",
     "text": [
      "Attempting:  [<surprise.prediction_algorithms.matrix_factorization.SVD object at 0x2a33c9610>, <surprise.prediction_algorithms.matrix_factorization.SVDpp object at 0x2a321cfa0>, <surprise.prediction_algorithms.knns.KNNBaseline object at 0x2a321cb80>, <surprise.prediction_algorithms.knns.KNNWithMeans object at 0x2a321c9a0>, <surprise.prediction_algorithms.baseline_only.BaselineOnly object at 0x2a321ccd0>, <surprise.prediction_algorithms.co_clustering.CoClustering object at 0x2a31e1fd0>] \n",
      "\n",
      "\n",
      "\n",
      "Starting:  <surprise.prediction_algorithms.matrix_factorization.SVD object at 0x2a33c9610>\n",
      "Done:  <surprise.prediction_algorithms.matrix_factorization.SVD object at 0x2a33c9610> \n",
      "\n",
      "\n",
      "Starting:  <surprise.prediction_algorithms.matrix_factorization.SVDpp object at 0x2a321cfa0>\n",
      "Done:  <surprise.prediction_algorithms.matrix_factorization.SVDpp object at 0x2a321cfa0> \n",
      "\n",
      "\n",
      "Starting:  <surprise.prediction_algorithms.knns.KNNBaseline object at 0x2a321cb80>\n",
      "Estimating biases using als...\n",
      "Computing the msd similarity matrix...\n",
      "Done computing similarity matrix.\n",
      "Estimating biases using als...\n",
      "Computing the msd similarity matrix...\n",
      "Done computing similarity matrix.\n",
      "Estimating biases using als...\n",
      "Computing the msd similarity matrix...\n",
      "Done computing similarity matrix.\n",
      "Done:  <surprise.prediction_algorithms.knns.KNNBaseline object at 0x2a321cb80> \n",
      "\n",
      "\n",
      "Starting:  <surprise.prediction_algorithms.knns.KNNWithMeans object at 0x2a321c9a0>\n",
      "Computing the msd similarity matrix...\n",
      "Done computing similarity matrix.\n",
      "Computing the msd similarity matrix...\n",
      "Done computing similarity matrix.\n",
      "Computing the msd similarity matrix...\n",
      "Done computing similarity matrix.\n",
      "Done:  <surprise.prediction_algorithms.knns.KNNWithMeans object at 0x2a321c9a0> \n",
      "\n",
      "\n",
      "Starting:  <surprise.prediction_algorithms.baseline_only.BaselineOnly object at 0x2a321ccd0>\n",
      "Estimating biases using als...\n",
      "Estimating biases using als...\n",
      "Estimating biases using als...\n",
      "Done:  <surprise.prediction_algorithms.baseline_only.BaselineOnly object at 0x2a321ccd0> \n",
      "\n",
      "\n",
      "Starting:  <surprise.prediction_algorithms.co_clustering.CoClustering object at 0x2a31e1fd0>\n",
      "Done:  <surprise.prediction_algorithms.co_clustering.CoClustering object at 0x2a31e1fd0> \n",
      "\n",
      "\n",
      "\n",
      "\tDONE\n",
      "\n"
     ]
    }
   ],
   "source": [
    "benchmark = []\n",
    "# Iterate over all algorithms\n",
    "\n",
    "algorithms = [SVD(), SVDpp(), KNNBaseline(), KNNWithMeans(), BaselineOnly(), CoClustering()]\n",
    "\n",
    "print (\"Attempting: \", str(algorithms), '\\n\\n\\n')\n",
    "\n",
    "for algorithm in algorithms:\n",
    "    print(\"Starting: \" ,str(algorithm))\n",
    "    # Perform cross validation\n",
    "    results = cross_validate(algorithm, data, measures=['RMSE'], cv=3, verbose=False)\n",
    "    # results = cross_validate(algorithm, data, measures=['RMSE','MAE'], cv=3, verbose=False)\n",
    "    \n",
    "    # Get results & append algorithm name\n",
    "    tmp = pd.DataFrame.from_dict(results).mean(axis=0)\n",
    "    tmp = tmp.append(pd.Series([str(algorithm).split(' ')[0].split('.')[-1]], index=['Algorithm']))\n",
    "    benchmark.append(tmp)\n",
    "    print(\"Done: \" ,str(algorithm), \"\\n\\n\")\n",
    "\n",
    "print ('\\n\\tDONE\\n')"
   ]
  },
  {
   "cell_type": "code",
   "execution_count": 19,
   "id": "5fe9188e",
   "metadata": {},
   "outputs": [],
   "source": [
    "surprise_results = pd.DataFrame(benchmark).set_index('Algorithm').sort_values('test_rmse')"
   ]
  },
  {
   "cell_type": "code",
   "execution_count": 20,
   "id": "39b8fdad",
   "metadata": {},
   "outputs": [
    {
     "data": {
      "text/html": [
       "<div>\n",
       "<style scoped>\n",
       "    .dataframe tbody tr th:only-of-type {\n",
       "        vertical-align: middle;\n",
       "    }\n",
       "\n",
       "    .dataframe tbody tr th {\n",
       "        vertical-align: top;\n",
       "    }\n",
       "\n",
       "    .dataframe thead th {\n",
       "        text-align: right;\n",
       "    }\n",
       "</style>\n",
       "<table border=\"1\" class=\"dataframe\">\n",
       "  <thead>\n",
       "    <tr style=\"text-align: right;\">\n",
       "      <th></th>\n",
       "      <th>test_rmse</th>\n",
       "      <th>fit_time</th>\n",
       "      <th>test_time</th>\n",
       "    </tr>\n",
       "    <tr>\n",
       "      <th>Algorithm</th>\n",
       "      <th></th>\n",
       "      <th></th>\n",
       "      <th></th>\n",
       "    </tr>\n",
       "  </thead>\n",
       "  <tbody>\n",
       "    <tr>\n",
       "      <th>SVDpp</th>\n",
       "      <td>0.970735</td>\n",
       "      <td>6.673404</td>\n",
       "      <td>3.826402</td>\n",
       "    </tr>\n",
       "    <tr>\n",
       "      <th>SVD</th>\n",
       "      <td>0.972813</td>\n",
       "      <td>4.300249</td>\n",
       "      <td>1.258878</td>\n",
       "    </tr>\n",
       "    <tr>\n",
       "      <th>BaselineOnly</th>\n",
       "      <td>0.973288</td>\n",
       "      <td>0.836133</td>\n",
       "      <td>1.145310</td>\n",
       "    </tr>\n",
       "    <tr>\n",
       "      <th>CoClustering</th>\n",
       "      <td>1.016629</td>\n",
       "      <td>6.574701</td>\n",
       "      <td>1.160980</td>\n",
       "    </tr>\n",
       "    <tr>\n",
       "      <th>KNNWithMeans</th>\n",
       "      <td>1.067689</td>\n",
       "      <td>64.801745</td>\n",
       "      <td>23.355690</td>\n",
       "    </tr>\n",
       "    <tr>\n",
       "      <th>KNNBaseline</th>\n",
       "      <td>1.073937</td>\n",
       "      <td>64.720593</td>\n",
       "      <td>23.611508</td>\n",
       "    </tr>\n",
       "  </tbody>\n",
       "</table>\n",
       "</div>"
      ],
      "text/plain": [
       "              test_rmse   fit_time  test_time\n",
       "Algorithm                                    \n",
       "SVDpp          0.970735   6.673404   3.826402\n",
       "SVD            0.972813   4.300249   1.258878\n",
       "BaselineOnly   0.973288   0.836133   1.145310\n",
       "CoClustering   1.016629   6.574701   1.160980\n",
       "KNNWithMeans   1.067689  64.801745  23.355690\n",
       "KNNBaseline    1.073937  64.720593  23.611508"
      ]
     },
     "execution_count": 20,
     "metadata": {},
     "output_type": "execute_result"
    }
   ],
   "source": [
    "surprise_results"
   ]
  },
  {
   "cell_type": "markdown",
   "id": "813f3297",
   "metadata": {},
   "source": [
    "#### Cross-Validation for Hyperparameters\n",
    "From previous results, we decide the use the SVD() algorithms. In the following part, we want to find the best hyperparameters using Cross-Validation."
   ]
  },
  {
   "cell_type": "markdown",
   "id": "5383a02f",
   "metadata": {},
   "source": [
    "**Exploration for n_factors**"
   ]
  },
  {
   "cell_type": "code",
   "execution_count": 31,
   "id": "ff1c08e9",
   "metadata": {},
   "outputs": [],
   "source": [
    "np.random.seed(2)\n",
    "param_grid = {\n",
    "    \"n_factors\": [1, 3, 4, 5, 6, 7, 10, 20, 30 ],\n",
    "    \"n_epochs\": [20],\n",
    "    \"lr_all\": [0.005],\n",
    "    \"reg_all\": [0.02]\n",
    "}\n",
    "gs = GridSearchCV(SVD, param_grid, measures=[\"rmse\", \"mae\"], refit=True, cv=5)\n",
    "\n",
    "gs.fit(data)\n",
    "\n",
    "training_parameters = gs.best_params[\"rmse\"]"
   ]
  },
  {
   "cell_type": "code",
   "execution_count": 32,
   "id": "4057a250",
   "metadata": {},
   "outputs": [
    {
     "data": {
      "text/plain": [
       "array([0.96058509, 0.96057967, 0.96056946, 0.96079   , 0.96047175,\n",
       "       0.96059517, 0.9606209 , 0.96106811, 0.96183411])"
      ]
     },
     "execution_count": 32,
     "metadata": {},
     "output_type": "execute_result"
    }
   ],
   "source": [
    "gs.cv_results['mean_test_rmse']"
   ]
  },
  {
   "cell_type": "code",
   "execution_count": 40,
   "id": "a302a5cf",
   "metadata": {},
   "outputs": [
    {
     "data": {
      "image/png": "[encoded data removed]",
      "text/plain": [
       "<Figure size 720x432 with 1 Axes>"
      ]
     },
     "metadata": {
      "needs_background": "light"
     },
     "output_type": "display_data"
    }
   ],
   "source": [
    "n_fac = [1, 3, 4, 5, 6, 7, 10, 20, 30 ]\n",
    "rmse = gs.cv_results['mean_test_rmse']\n",
    "plt.figure(figsize=(10, 6))\n",
    "plt.plot(n_fac, rmse, '-o')\n",
    "plt.ylabel(\"RMSE\")\n",
    "plt.xlabel(\"n_factors\")\n",
    "# plt.show()\n",
    "plt.savefig(\"n_factors\")"
   ]
  },
  {
   "cell_type": "markdown",
   "id": "497675aa",
   "metadata": {},
   "source": [
    "**Exploration for reg_all**"
   ]
  },
  {
   "cell_type": "code",
   "execution_count": 37,
   "id": "354b9f02",
   "metadata": {},
   "outputs": [],
   "source": [
    "np.random.seed(2)\n",
    "param_grid2 = {\n",
    "    \"n_factors\": [5],\n",
    "    \"n_epochs\": [20],\n",
    "    \"lr_all\": [0.005],\n",
    "    \"reg_all\": [0.005, 0.01, 0.015, 0.02,0.025, 0.03,0.035, 0.04]\n",
    "}\n",
    "gs2 = GridSearchCV(SVD, param_grid2, measures=[\"rmse\", \"mae\"], refit=True, cv=5)\n",
    "\n",
    "gs2.fit(data)\n",
    "\n",
    "training_parameters2 = gs2.best_params[\"rmse\"]\n"
   ]
  },
  {
   "cell_type": "code",
   "execution_count": 38,
   "id": "fedf6cfa",
   "metadata": {},
   "outputs": [
    {
     "data": {
      "text/plain": [
       "array([0.96066799, 0.96064134, 0.96051996, 0.96046755, 0.9605321 ,\n",
       "       0.96055129, 0.96047404, 0.96053893])"
      ]
     },
     "execution_count": 38,
     "metadata": {},
     "output_type": "execute_result"
    }
   ],
   "source": [
    "gs2.cv_results['mean_test_rmse']"
   ]
  },
  {
   "cell_type": "code",
   "execution_count": 41,
   "id": "d926e909",
   "metadata": {},
   "outputs": [
    {
     "data": {
      "image/png": "[encoded data removed]",
      "text/plain": [
       "<Figure size 720x432 with 1 Axes>"
      ]
     },
     "metadata": {
      "needs_background": "light"
     },
     "output_type": "display_data"
    }
   ],
   "source": [
    "reg_all = [0.005, 0.01, 0.015, 0.02,0.025, 0.03,0.035, 0.04]\n",
    "rmse = gs2.cv_results['mean_test_rmse']\n",
    "plt.figure(figsize=(10, 6))\n",
    "plt.plot(reg_all, rmse, '-o')\n",
    "plt.ylabel(\"RMSE\")\n",
    "plt.xlabel(\"Regulariztion term\")\n",
    "# plt.show()\n",
    "plt.savefig(\"reg.png\")"
   ]
  },
  {
   "cell_type": "markdown",
   "id": "a1c51820",
   "metadata": {},
   "source": [
    "**Exploration for n_epochs and lr_all**"
   ]
  },
  {
   "cell_type": "code",
   "execution_count": 42,
   "id": "7453ae21",
   "metadata": {},
   "outputs": [],
   "source": [
    "np.random.seed(2)\n",
    "param_grid2 = {\n",
    "    \"n_factors\": [6],\n",
    "    \"n_epochs\": [10, 20],\n",
    "    \"lr_all\": [0.002, 0.005, 0.01],\n",
    "    \"reg_all\": [0.02]\n",
    "}\n",
    "gs3 = GridSearchCV(SVD, param_grid2, measures=[\"rmse\", \"mae\"], refit=True, cv=5)\n",
    "\n",
    "gs3.fit(data)\n",
    "\n",
    "training_parameters3 = gs3.best_params[\"rmse\"]"
   ]
  },
  {
   "cell_type": "code",
   "execution_count": 43,
   "id": "654a0a33",
   "metadata": {},
   "outputs": [
    {
     "data": {
      "text/plain": [
       "{'n_factors': 6, 'n_epochs': 20, 'lr_all': 0.005, 'reg_all': 0.02}"
      ]
     },
     "execution_count": 43,
     "metadata": {},
     "output_type": "execute_result"
    }
   ],
   "source": [
    "training_parameters3"
   ]
  },
  {
   "cell_type": "markdown",
   "id": "4fe2fc4d",
   "metadata": {},
   "source": [
    "#### Model training using best hyperparamaters\n",
    "\n",
    "In the following part, we use the best paramters to train our model."
   ]
  },
  {
   "cell_type": "code",
   "execution_count": 44,
   "id": "f687c92c",
   "metadata": {},
   "outputs": [],
   "source": [
    "from pprint import pprint as pp\n",
    "def predicting(model_f, user, item):\n",
    "    uid = str(user)\n",
    "    iid = str(item) \n",
    "    loaded_model = load_model(model_f)\n",
    "    prediction = loaded_model.predict(user, item, verbose=True)\n",
    "    rating = prediction.est\n",
    "    details = prediction.details\n",
    "    uid = prediction.uid\n",
    "    iid = prediction.iid\n",
    "    true = prediction.r_ui\n",
    "    ret = {\n",
    "        'user': user, \n",
    "        'item': item, \n",
    "        'rating': rating, \n",
    "        'details': details,\n",
    "        'uid': uid,\n",
    "        'iid': iid,\n",
    "        'true': true\n",
    "        }\n",
    "    pp (ret)\n",
    "    print ('\\n\\n')\n",
    "    return ret"
   ]
  },
  {
   "cell_type": "code",
   "execution_count": 45,
   "id": "10838ab9",
   "metadata": {},
   "outputs": [],
   "source": [
    "from collections import defaultdict\n",
    "\n",
    "# Function to find top n ratings\n",
    "def get_top_n(predictions, n=8):\n",
    "\n",
    "    # First map the predictions to each user.\n",
    "    top_n = defaultdict(list)\n",
    "    for uid, iid, true_r, est, _ in predictions:\n",
    "        top_n[uid].append((iid, est))\n",
    "\n",
    "    # Then sort the predictions for each user and retrieve the k highest ones.\n",
    "    for uid, user_ratings in top_n.items():\n",
    "        user_ratings.sort(key=lambda x: x[1], reverse=True)\n",
    "        top_n[uid] = user_ratings[:n]\n",
    "\n",
    "    return top_n\n",
    "\n"
   ]
  },
  {
   "cell_type": "code",
   "execution_count": 46,
   "id": "32094d3f",
   "metadata": {},
   "outputs": [],
   "source": [
    "# Load data using Dataset\n",
    "reader = Reader()\n",
    "data = Dataset.load_from_df(rating[['reviewerID', 'asin', 'overall']], reader)\n",
    "\n",
    "# Create trainset using the full data\n",
    "trainset = data.build_full_trainset()\n",
    "\n",
    "# Build a set we can use to present our final recommendations.\n",
    "x, testset = train_test_split(data, test_size=.75)\n",
    "\n",
    "# Model Built using SVD()\n",
    "algo = SVD(n_epochs = 20, lr_all = 0.05, reg_all = 0.02, n_factors = 6)\n",
    "# Fit the Model\n",
    "algo.fit(trainset)\n",
    "\n",
    "# Generate all predictions for the set we generated before.\n",
    "predictions = algo.test(testset)\n",
    "\n",
    "# Get top N rating for each user in our dataset.\n",
    "top_n = get_top_n(predictions, n=8)\n"
   ]
  },
  {
   "cell_type": "markdown",
   "id": "d03cf1d2",
   "metadata": {},
   "source": [
    "### Serving Recommendations\n",
    "\n",
    "Here we shows how our recommender system can be used. You can choose a user in our dataset, and use top_n to get the top_n recommendations."
   ]
  },
  {
   "cell_type": "code",
   "execution_count": 55,
   "id": "86b9a725",
   "metadata": {},
   "outputs": [
    {
     "name": "stdout",
     "output_type": "stream",
     "text": [
      "ProductID,  Rating\n",
      "B005G8CPDG, 5.00\n",
      "B005DLDO4U, 5.00\n",
      "B00JQTO8TU, 5.00\n",
      "B003L1ZYYW, 5.00\n",
      "B00N9BQ9ES, 5.00\n",
      "B01CM85C0K, 5.00\n",
      "B00K73NSU4, 4.96\n",
      "B002TF0ZDQ, 4.93\n"
     ]
    }
   ],
   "source": [
    "# Print the recommended items for each user\n",
    "def top_k_recommendation(User, k = 8):\n",
    "    top_n = get_top_n(predictions, n=k)\n",
    "    print(\"ProductID,  Rating\")\n",
    "    for a in top_n[User]:\n",
    "        print(a[0]+\", %1.2f\" % a[1])\n",
    "UserID = \"A0220159ZRNBTRKLG08H\"\n",
    "top_k_recommendation(UserID)"
   ]
  },
  {
   "cell_type": "markdown",
   "id": "8a1a9f51",
   "metadata": {},
   "source": [
    "### kNN regression: Similarity Chosen and Results\n",
    "Given dimension $p$ of the feature vector, the collaborative filtering method could automatically learn the feature vectors. However, one downside of this method is that it does not explicitly utilize other information of the system beyond users' rating, for example, description of the product, category of the product, price, reviews, and etc.\n",
    "\n",
    "kNN regression is a model trying to fix the above issues. In this model, the predicted rating is essentially given by the $k$-nearest-similarity-weighted average as discussed in the following.\n",
    "\n",
    "Suppose $s(m, n)$ characterizes the similarity between product $m$ and $n$ which does not depend on user. The higher $s$ is, the closer the two products are. For product $i$ and user $j$, let us denote $K(i, j)$ as the set containing the $k$ products that have the highest similarity with product $i$ and have been rated by the user, then the prediction is given by\n",
    "\n",
    "\\begin{equation}\n",
    "    \\hat{R}_{ij} = \\frac{\\sum_{k\\in K(i, j)}s(i, k)R_{kj}}{\\sum_{k\\in K(i, j)}s(i, k)}\n",
    "\\end{equation}\n",
    "\n",
    "\n",
    "One example of a similarity function is given by\n",
    "\\begin{equation}\n",
    "    s(m, n) = \\frac{x_{m}^{\\rm T}x_n}{||x_{m}||_2||x_{n}||_2}\n",
    "\\end{equation}\n",
    "where $x_m$ and $x_n$ are the product feature vectors as defined in the previous subsection.\n",
    "\n",
    "Under this choice, the problem boils down to construct a good representation of the product feature vector.\n"
   ]
  },
  {
   "cell_type": "code",
   "execution_count": 50,
   "id": "74c0d727",
   "metadata": {},
   "outputs": [],
   "source": [
    "from sklearn.feature_extraction.text import CountVectorizer\n",
    "\n",
    "def word_filter(content):\n",
    "    words = content.split()\n",
    "    words = [f'{word}' for word in words if len(word) > 3]\n",
    "    return str(words)\n",
    "\n",
    "def get_X(content):\n",
    "    vectorizer = CountVectorizer()\n",
    "    corpus = content.apply(word_filter)\n",
    "    X = vectorizer.fit_transform(corpus)\n",
    "    return X.toarray()\n",
    "\n",
    "X_category = get_X(meta.category)\n",
    "X_title = get_X(meta.title)\n",
    "X_description = get_X(meta.description)\n",
    "\n",
    "\n",
    "def cosine(a1, a2):\n",
    "    return sum(a1 * a2) / (np.sqrt(sum(a1 * a1) * sum(a2 * a2)) + 1e-5)\n",
    "\n",
    "# Similarity calculation\n",
    "def similarity(data, pid1, pid2):\n",
    "\n",
    "    ind1 = data[data.asin == pid1].index[0]\n",
    "    ind2 = data[data.asin == pid2].index[0]\n",
    "\n",
    "    vec1_category = X_category[ind1]\n",
    "    vec2_category = X_category[ind2]\n",
    "    cos_category = cosine(vec1_category, vec2_category)\n",
    "\n",
    "    vec1_title = X_title[ind1]\n",
    "    vec2_title = X_title[ind2]\n",
    "    cos_title = cosine(vec1_title, vec2_title)\n",
    "\n",
    "    vec1_description = X_description[ind1]\n",
    "    vec2_description = X_description[ind2]\n",
    "    cos_description = cosine(vec1_description, vec2_description)\n",
    "\n",
    "    sim = cos_title + cos_category + cos_description\n",
    "\n",
    "    if pid1 in data.loc[ind2, 'also_buy'] or pid2 in data.loc[ind1, 'also_buy']:\n",
    "        sim += 1\n",
    "    if pid1 in data.loc[ind2, 'also_view'] or pid2 in data.loc[ind1, 'also_view']:\n",
    "        sim += 1\n",
    "\n",
    "    return sim\n",
    "\n",
    "# Return a dataframe containing the all products the user rated and their similarities with the given product.\n",
    "def get_Nui(df, df2, user, item, k = 5):\n",
    "    \n",
    "    products = df[df['reviewerID'] == user]['asin']\n",
    "    products = products[products!=item]\n",
    "    sim = pd.DataFrame({'asin': products, 'sim': [similarity(df2, item, k) for k in products]})\n",
    "    sort_sim = sim.sort_values(by='sim', ascending = False).head(k)\n",
    "    \n",
    "    return sort_sim\n",
    "\n",
    "# Return the predicted rating given a user and product.\n",
    "def predict_rating(df, df2, user, item):\n",
    "    \n",
    "    Nui = get_Nui(df, df2, user, item).sort_values(by = 'asin')\n",
    "    sum_abs = sum([abs(a) for a in Nui['sim']])\n",
    "\n",
    "    rs = df[df['reviewerID']==user]\n",
    "    rs = rs[rs['asin'].isin(Nui['asin'])][['overall', 'asin']]\n",
    "    rs = rs.sort_values(by = 'asin')\n",
    "    weight_sum = np.sum(rs['overall'].values * Nui['sim'].values)\n",
    "\n",
    "    return weight_sum/sum_abs\n",
    "    \n",
    "def loss_f(df, df2, size=100):\n",
    "    l = 0\n",
    "    np.random.seed(33)\n",
    "    sample_list = np.random.choice(range(len(df)), size=size, replace=False)\n",
    "\n",
    "    for m in tqdm(sample_list):\n",
    "        l += (df['overall'].iloc[m] - predict_rating(df, df2, df['reviewerID'].iloc[m], df['asin'].iloc[m]))**2\n",
    "    return np.sqrt(l / len(sample_list))"
   ]
  },
  {
   "cell_type": "code",
   "execution_count": 51,
   "id": "ec9d4f35",
   "metadata": {},
   "outputs": [
    {
     "name": "stderr",
     "output_type": "stream",
     "text": [
      "100%|██████████████████████████████████████████████████████████████████████████████████████████████████████████████████████████████████████| 1000/1000 [04:34<00:00,  3.64it/s]\n"
     ]
    },
    {
     "data": {
      "text/plain": [
       "0.9995623990850291"
      ]
     },
     "execution_count": 51,
     "metadata": {},
     "output_type": "execute_result"
    }
   ],
   "source": [
    "loss_f(rating, meta, 1000)"
   ]
  },
  {
   "cell_type": "code",
   "execution_count": null,
   "id": "4fb2942f",
   "metadata": {},
   "outputs": [],
   "source": []
  }
 ],
 "metadata": {
  "kernelspec": {
   "display_name": "Python 3 (ipykernel)",
   "language": "python",
   "name": "python3"
  },
  "language_info": {
   "codemirror_mode": {
    "name": "ipython",
    "version": 3
   },
   "file_extension": ".py",
   "mimetype": "text/x-python",
   "name": "python",
   "nbconvert_exporter": "python",
   "pygments_lexer": "ipython3",
   "version": "3.9.12"
  }
 },
 "nbformat": 4,
 "nbformat_minor": 5
}
